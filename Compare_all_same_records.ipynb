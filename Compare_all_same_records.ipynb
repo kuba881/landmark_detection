{
 "cells": [
  {
   "cell_type": "code",
   "execution_count": 1,
   "id": "98183c57-b84b-4478-ac17-98e371b7578e",
   "metadata": {},
   "outputs": [
    {
     "name": "stderr",
     "output_type": "stream",
     "text": [
      "C:\\Users\\kuba8\\miniconda3\\envs\\julab\\lib\\site-packages\\outdated\\utils.py:14: OutdatedPackageWarning: The package pingouin is out of date. Your version is 0.5.2, the latest is 0.5.3.\n",
      "Set the environment variable OUTDATED_IGNORE=1 to disable these warnings.\n",
      "  return warn(\n"
     ]
    }
   ],
   "source": [
    "from cProfile import label\n",
    "from email import header\n",
    "from ntpath import join\n",
    "from os import sep\n",
    "from statistics import mean, median\n",
    "from tkinter.ttk import Separator\n",
    "from xml.etree.ElementPath import xpath_tokenizer\n",
    "from scipy.io import loadmat\n",
    "import pandas as pd\n",
    "import matplotlib.pyplot as plt\n",
    "from matplotlib.widgets import SpanSelector\n",
    "import numpy as np\n",
    "import seaborn as sns\n",
    "from scipy.signal import find_peaks\n",
    "import pingouin as pg\n",
    "from pingouin import homoscedasticity"
   ]
  },
  {
   "cell_type": "code",
   "execution_count": 2,
   "id": "533b03cb-11bb-4390-bfd2-def1045e7b81",
   "metadata": {},
   "outputs": [],
   "source": [
    "#data, we would like to evaluate\n",
    "healthy=['ZM001_b_data','ZM002_b_data','ZM004_b_data']\n",
    "paralyzed=['SM001_bal_data','SM002_bal_data','SM003_bal_data','SM005_bal_data']\n",
    "paralyzed=['SF006_bar_data','SF007_bar_data','SF010_bar_data','SF011_bar_data']\n",
    "paralyzed=['SM021_bar_data','SM022_bar_data','SM023_bar_data']\n",
    "names=paralyzed"
   ]
  },
  {
   "cell_type": "code",
   "execution_count": 3,
   "id": "7162ecd9-4595-4de3-8a72-931af7b3966f",
   "metadata": {},
   "outputs": [],
   "source": [
    "#function which select peaks in signal and set borders for next calculation\n",
    "def select2(x,rel_hig, wid,dis,a,b,promin=0):\n",
    "\n",
    "    #initial gues of promminence\n",
    "    if promin==0:\n",
    "        promin=(max(x[a:b])-mean(x[a:b]))*0.5\n",
    "\n",
    "    #function for searching peaks\n",
    "    peaks, properties = find_peaks(-x[a:b], prominence=promin, rel_height=rel_hig, width=wid, distance=dis)\n",
    "\n",
    "    #repeat, if number of peaks is bigger than 6\n",
    "    if len(peaks)>6:\n",
    "        promin=promin+0.002/20\n",
    "        peaks,properties=select2(x, rel_hig, wid,dis,a,b,promin)\n",
    "    properties[\"prominences\"], properties[\"widths\"]\n",
    "\n",
    "    #returns borders of peaks(properties) and order index of peaks\n",
    "    return peaks, properties"
   ]
  },
  {
   "cell_type": "code",
   "execution_count": 4,
   "id": "1cca3843-1ab0-490e-98c2-93bcf63b15b2",
   "metadata": {},
   "outputs": [],
   "source": [
    "#function for testing equality of means\n",
    "def process(data,num,num2):\n",
    "\n",
    "    #select specific points in signal\n",
    "    peak1,prop1=select2(data[num],0.8,1,5.5,0,len(data))\n",
    "\n",
    "    #widen area of peaks\n",
    "    p=2\n",
    "    x=np.array([])\n",
    "\n",
    "    #make signal composed from exercises\n",
    "    for j in range(0,len(peak1)):\n",
    "        xpo=data[num2][round(prop1['left_ips'][j])-p:round(prop1['right_ips'][j])+p]\n",
    "        x=np.append(x,xpo)\n",
    "    return x"
   ]
  },
  {
   "cell_type": "code",
   "execution_count": 5,
   "id": "c52e0ef0-caa1-4b5a-a8ad-b471b40ca31f",
   "metadata": {},
   "outputs": [],
   "source": [
    "index=np.array([])\n",
    "p_val=pd.DataFrame([])\n",
    "big_table=pd.DataFrame([])\n",
    "for l in range(0,4):\n",
    "    dataset=pd.DataFrame([])   \n",
    "    for k in range(0,len(names)):\n",
    "\n",
    "        #load data\n",
    "        data=pd.read_csv(join(r'C:\\Users\\kuba8\\MATLAB Drive\\projekt oblicej\\dataPython',names[k]+'_new.txt'),sep=' ',header=None)\n",
    "        data=data.transpose()\n",
    "        #data=normalize(data)\n",
    "\n",
    "        #get specific area of peaks\n",
    "        data=process(data,1,l)\n",
    "        df = pd.DataFrame({'value':data, 'label': names[k]})#random.choices(data,k=20)})\n",
    "        dataset=pd.concat([dataset,df], axis=0)\n",
    "        \n",
    "        #making big table\n",
    "        table_h = pd.DataFrame({'sex':[names[k][1]],'status':[names[k][0]],'ID_number':[names[k][2:5]],'point':[names[k][1]]})\n",
    "        big_table=pd.concat([big_table,table_h], axis=0)\n",
    "    \n",
    "    if l<12:#12\n",
    "        kr=pg.kruskal(dataset,dv='value',between='label')\n",
    "        if kr['p-unc'][0]<0.05:\n",
    "            hod=False\n",
    "        else:\n",
    "            hod=True\n",
    "        kr=pd.DataFrame({'W':kr['H'],'pval':kr['p-unc'],'equal':hod})\n",
    "    else:\n",
    "        kr=homoscedasticity(dataset,dv='value',group='label')\n",
    "        kr=pd.DataFrame({'W':kr['W'],'pval':kr['pval'],'equal':kr['equal_var']})\n",
    "    #kr=kruskal(dataset.groupby(by='label'))\n",
    "    p_val=pd.concat([p_val,kr])\n",
    "    index=np.append(index,l)\n",
    "p_val['point']=index\n",
    "    #if kr['pval'][0]>0.05:\n",
    "    #    i+=1\n",
    "    #p_val=np.append(p_val,kr[1])"
   ]
  },
  {
   "cell_type": "code",
   "execution_count": 6,
   "id": "327be6f8-d585-4f42-af83-cddd6c111ca1",
   "metadata": {},
   "outputs": [
    {
     "data": {
      "text/html": [
       "<div>\n",
       "<style scoped>\n",
       "    .dataframe tbody tr th:only-of-type {\n",
       "        vertical-align: middle;\n",
       "    }\n",
       "\n",
       "    .dataframe tbody tr th {\n",
       "        vertical-align: top;\n",
       "    }\n",
       "\n",
       "    .dataframe thead th {\n",
       "        text-align: right;\n",
       "    }\n",
       "</style>\n",
       "<table border=\"1\" class=\"dataframe\">\n",
       "  <thead>\n",
       "    <tr style=\"text-align: right;\">\n",
       "      <th></th>\n",
       "      <th>W</th>\n",
       "      <th>pval</th>\n",
       "      <th>equal</th>\n",
       "      <th>point</th>\n",
       "    </tr>\n",
       "  </thead>\n",
       "  <tbody>\n",
       "    <tr>\n",
       "      <th>Kruskal</th>\n",
       "      <td>56.436787</td>\n",
       "      <td>5.557858e-13</td>\n",
       "      <td>False</td>\n",
       "      <td>0.0</td>\n",
       "    </tr>\n",
       "    <tr>\n",
       "      <th>Kruskal</th>\n",
       "      <td>179.375458</td>\n",
       "      <td>1.119732e-39</td>\n",
       "      <td>False</td>\n",
       "      <td>1.0</td>\n",
       "    </tr>\n",
       "    <tr>\n",
       "      <th>Kruskal</th>\n",
       "      <td>43.166799</td>\n",
       "      <td>4.231055e-10</td>\n",
       "      <td>False</td>\n",
       "      <td>2.0</td>\n",
       "    </tr>\n",
       "    <tr>\n",
       "      <th>Kruskal</th>\n",
       "      <td>78.244009</td>\n",
       "      <td>1.022184e-17</td>\n",
       "      <td>False</td>\n",
       "      <td>3.0</td>\n",
       "    </tr>\n",
       "  </tbody>\n",
       "</table>\n",
       "</div>"
      ],
      "text/plain": [
       "                  W          pval  equal  point\n",
       "Kruskal   56.436787  5.557858e-13  False    0.0\n",
       "Kruskal  179.375458  1.119732e-39  False    1.0\n",
       "Kruskal   43.166799  4.231055e-10  False    2.0\n",
       "Kruskal   78.244009  1.022184e-17  False    3.0"
      ]
     },
     "execution_count": 6,
     "metadata": {},
     "output_type": "execute_result"
    }
   ],
   "source": [
    "p_val"
   ]
  },
  {
   "cell_type": "code",
   "execution_count": 7,
   "id": "a4080731-b1f4-4e49-9cc2-ceb5adf0db28",
   "metadata": {},
   "outputs": [],
   "source": [
    "points=p_val[p_val[\"equal\"] == True]"
   ]
  },
  {
   "cell_type": "code",
   "execution_count": 8,
   "id": "d5589440-cbc7-48f9-8e52-c0ed447803a1",
   "metadata": {},
   "outputs": [
    {
     "data": {
      "text/html": [
       "<div>\n",
       "<style scoped>\n",
       "    .dataframe tbody tr th:only-of-type {\n",
       "        vertical-align: middle;\n",
       "    }\n",
       "\n",
       "    .dataframe tbody tr th {\n",
       "        vertical-align: top;\n",
       "    }\n",
       "\n",
       "    .dataframe thead th {\n",
       "        text-align: right;\n",
       "    }\n",
       "</style>\n",
       "<table border=\"1\" class=\"dataframe\">\n",
       "  <thead>\n",
       "    <tr style=\"text-align: right;\">\n",
       "      <th></th>\n",
       "      <th>W</th>\n",
       "      <th>pval</th>\n",
       "      <th>equal</th>\n",
       "      <th>point</th>\n",
       "    </tr>\n",
       "  </thead>\n",
       "  <tbody>\n",
       "  </tbody>\n",
       "</table>\n",
       "</div>"
      ],
      "text/plain": [
       "Empty DataFrame\n",
       "Columns: [W, pval, equal, point]\n",
       "Index: []"
      ]
     },
     "execution_count": 8,
     "metadata": {},
     "output_type": "execute_result"
    }
   ],
   "source": [
    "points"
   ]
  }
 ],
 "metadata": {
  "kernelspec": {
   "display_name": "Python 3 (ipykernel)",
   "language": "python",
   "name": "python3"
  },
  "language_info": {
   "codemirror_mode": {
    "name": "ipython",
    "version": 3
   },
   "file_extension": ".py",
   "mimetype": "text/x-python",
   "name": "python",
   "nbconvert_exporter": "python",
   "pygments_lexer": "ipython3",
   "version": "3.10.6"
  }
 },
 "nbformat": 4,
 "nbformat_minor": 5
}
